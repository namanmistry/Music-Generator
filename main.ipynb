{
 "cells": [
  {
   "cell_type": "code",
   "execution_count": 1,
   "id": "1118eb1f-8ad6-4684-ad37-7cfefe8a2507",
   "metadata": {},
   "outputs": [],
   "source": [
    "from music21 import *\n",
    "import os"
   ]
  },
  {
   "cell_type": "code",
   "execution_count": 2,
   "id": "0e61cd7a-639f-4a46-b507-38f7e63bec71",
   "metadata": {},
   "outputs": [],
   "source": [
    "notes=[]\n",
    "notes_to_parse = None\n",
    "for file in os.listdir(\"./data\"):    \n",
    "    #parsing a midi file\n",
    "    midi = converter.parse(f\"./data/{file}\")\n",
    "  \n",
    "    #grouping based on different instruments\n",
    "    s2 = instrument.partitionByInstrument(midi)\n",
    "\n",
    "    #Looping over all the instruments\n",
    "    for part in s2.parts:\n",
    "    \n",
    "        #select elements of only piano\n",
    "        if 'Piano' in str(part): \n",
    "        \n",
    "            notes_to_parse = part.recurse() \n",
    "      \n",
    "            #finding whether a particular element is note or a chord\n",
    "            for element in notes_to_parse:\n",
    "                \n",
    "                #note\n",
    "                if isinstance(element, note.Note):\n",
    "                    notes.append(str(element.pitch))\n",
    "                \n",
    "                #chord\n",
    "                elif isinstance(element, chord.Chord):\n",
    "                    notes.append('.'.join(str(n) for n in element.normalOrder))"
   ]
  },
  {
   "cell_type": "code",
   "execution_count": 3,
   "id": "2e3be69d-8e98-41b9-bb5d-f0d01bdf6dc9",
   "metadata": {},
   "outputs": [],
   "source": [
    "x = []\n",
    "y = []\n",
    "num_of_steps = 32\n",
    "for i in range(0, len(notes)-32-1):\n",
    "    x.append(notes[i:i+num_of_steps])\n",
    "    y.append(notes[i+num_of_steps])"
   ]
  },
  {
   "cell_type": "code",
   "execution_count": 4,
   "id": "9da268c4-de4c-4fa4-b92e-82fca736e568",
   "metadata": {},
   "outputs": [],
   "source": [
    "import numpy as np\n",
    "x =np.array(x)\n",
    "y =np.array(y)"
   ]
  },
  {
   "cell_type": "code",
   "execution_count": 5,
   "id": "2a5bc301-de59-425d-affa-a47521675625",
   "metadata": {},
   "outputs": [],
   "source": [
    "unique_x = list(set(x.ravel()))\n",
    "x_note_to_int = dict((note_, number) for number, note_ in enumerate(unique_x))"
   ]
  },
  {
   "cell_type": "code",
   "execution_count": 9,
   "id": "59d41445-124f-4666-9f40-a0ccde380b78",
   "metadata": {},
   "outputs": [],
   "source": [
    "import pickle\n",
    "with open(\"unique_notes.pkl\",\"wb\") as p:\n",
    "    pickle.dump(unique_x,p)\n",
    "    p.close()"
   ]
  },
  {
   "cell_type": "code",
   "execution_count": 6,
   "id": "124b9c34-9eb3-4e42-884e-dc25a14876a8",
   "metadata": {},
   "outputs": [],
   "source": [
    "unique_y = list(set(y))\n",
    "y_note_to_int = dict((note_, number) for number, note_ in enumerate(unique_y)) "
   ]
  },
  {
   "cell_type": "code",
   "execution_count": 7,
   "id": "be1cc2f6-4a9d-422d-9ae2-e240a2f9da3e",
   "metadata": {},
   "outputs": [],
   "source": [
    "#preparing input sequences\n",
    "x_seq=[]\n",
    "for i in x:\n",
    "    temp=[]\n",
    "    for j in i:\n",
    "        #assigning unique integer to every note\n",
    "        temp.append(x_note_to_int[j])\n",
    "    x_seq.append(temp)\n",
    "    \n",
    "x_seq = np.array(x_seq)\n",
    "y_seq=np.array([y_note_to_int[i] for i in y])"
   ]
  },
  {
   "cell_type": "code",
   "execution_count": 8,
   "id": "af811a21-3a47-4ce5-bb2f-1c22cad8107e",
   "metadata": {},
   "outputs": [
    {
     "data": {
      "text/plain": [
       "array([155, 155, 155, ..., 113, 118, 234])"
      ]
     },
     "execution_count": 8,
     "metadata": {},
     "output_type": "execute_result"
    }
   ],
   "source": [
    "y_seq"
   ]
  },
  {
   "cell_type": "code",
   "execution_count": 9,
   "id": "7c821cc1-f90a-4783-9b77-e594ea864b7c",
   "metadata": {},
   "outputs": [],
   "source": [
    "from sklearn.model_selection import train_test_split\n",
    "x_tr, x_val, y_tr, y_val = train_test_split(x_seq,y_seq,test_size=0.2,random_state=0)"
   ]
  },
  {
   "cell_type": "code",
   "execution_count": 10,
   "id": "f826a060-c9c9-4674-a995-132b1d6e658a",
   "metadata": {},
   "outputs": [
    {
     "name": "stdout",
     "output_type": "stream",
     "text": [
      "Model: \"sequential\"\n",
      "_________________________________________________________________\n",
      "Layer (type)                 Output Shape              Param #   \n",
      "=================================================================\n",
      "lstm (LSTM)                  (None, 32, 128)           66560     \n",
      "_________________________________________________________________\n",
      "lstm_1 (LSTM)                (None, 128)               131584    \n",
      "_________________________________________________________________\n",
      "dense (Dense)                (None, 256)               33024     \n",
      "_________________________________________________________________\n",
      "activation (Activation)      (None, 256)               0         \n",
      "_________________________________________________________________\n",
      "dense_1 (Dense)              (None, 358)               92006     \n",
      "_________________________________________________________________\n",
      "activation_1 (Activation)    (None, 358)               0         \n",
      "=================================================================\n",
      "Total params: 323,174\n",
      "Trainable params: 323,174\n",
      "Non-trainable params: 0\n",
      "_________________________________________________________________\n"
     ]
    }
   ],
   "source": [
    "from tensorflow.keras import Sequential\n",
    "from tensorflow.keras.layers import Dense, Activation, LSTM\n",
    "model = Sequential()\n",
    "model.add(LSTM(128,return_sequences=True))\n",
    "model.add(LSTM(128))\n",
    "model.add(Dense(256))\n",
    "model.add(Activation('relu'))\n",
    "model.add(Dense(len(unique_y)))\n",
    "model.add(Activation('softmax'))\n",
    "model.compile(loss='sparse_categorical_crossentropy', optimizer='adam')\n",
    "model.build((None,x_tr.shape[1],1))\n",
    "model.summary()"
   ]
  },
  {
   "cell_type": "code",
   "execution_count": 11,
   "id": "4637ab84-a3f0-4cfa-bc52-41586a98515a",
   "metadata": {},
   "outputs": [
    {
     "name": "stdout",
     "output_type": "stream",
     "text": [
      "Epoch 1/50\n",
      "365/365 [==============================] - 16s 28ms/step - loss: 4.6945\n",
      "Epoch 2/50\n",
      "365/365 [==============================] - 11s 29ms/step - loss: 4.5140\n",
      "Epoch 3/50\n",
      "365/365 [==============================] - 11s 29ms/step - loss: 4.3205\n",
      "Epoch 4/50\n",
      "365/365 [==============================] - 11s 29ms/step - loss: 4.1343\n",
      "Epoch 5/50\n",
      "365/365 [==============================] - 11s 29ms/step - loss: 3.9631\n",
      "Epoch 6/50\n",
      "365/365 [==============================] - 11s 29ms/step - loss: 3.8140\n",
      "Epoch 7/50\n",
      "365/365 [==============================] - 11s 29ms/step - loss: 3.6648\n",
      "Epoch 8/50\n",
      "365/365 [==============================] - 11s 29ms/step - loss: 3.5238\n",
      "Epoch 9/50\n",
      "365/365 [==============================] - 11s 29ms/step - loss: 3.3890\n",
      "Epoch 10/50\n",
      "365/365 [==============================] - 11s 29ms/step - loss: 3.2659\n",
      "Epoch 11/50\n",
      "365/365 [==============================] - 11s 29ms/step - loss: 3.1434\n",
      "Epoch 12/50\n",
      "365/365 [==============================] - 11s 29ms/step - loss: 3.0242\n",
      "Epoch 13/50\n",
      "365/365 [==============================] - 11s 29ms/step - loss: 2.9174\n",
      "Epoch 14/50\n",
      "365/365 [==============================] - 11s 29ms/step - loss: 2.8099\n",
      "Epoch 15/50\n",
      "365/365 [==============================] - 11s 29ms/step - loss: 2.7090\n",
      "Epoch 16/50\n",
      "365/365 [==============================] - 11s 29ms/step - loss: 2.6200\n",
      "Epoch 17/50\n",
      "365/365 [==============================] - 11s 29ms/step - loss: 2.5253\n",
      "Epoch 18/50\n",
      "365/365 [==============================] - 11s 29ms/step - loss: 2.4451\n",
      "Epoch 19/50\n",
      "365/365 [==============================] - 11s 29ms/step - loss: 2.3601\n",
      "Epoch 20/50\n",
      "365/365 [==============================] - 11s 29ms/step - loss: 2.2816\n",
      "Epoch 21/50\n",
      "365/365 [==============================] - 11s 29ms/step - loss: 2.2080\n",
      "Epoch 22/50\n",
      "365/365 [==============================] - 11s 30ms/step - loss: 2.1336\n",
      "Epoch 23/50\n",
      "365/365 [==============================] - 11s 30ms/step - loss: 2.0696\n",
      "Epoch 24/50\n",
      "365/365 [==============================] - 11s 29ms/step - loss: 2.0096 0s - loss: 2.00\n",
      "Epoch 25/50\n",
      "365/365 [==============================] - 11s 31ms/step - loss: 1.9340\n",
      "Epoch 26/50\n",
      "365/365 [==============================] - 11s 31ms/step - loss: 1.8865\n",
      "Epoch 27/50\n",
      "365/365 [==============================] - 11s 31ms/step - loss: 1.8212\n",
      "Epoch 28/50\n",
      "365/365 [==============================] - 11s 31ms/step - loss: 1.7672\n",
      "Epoch 29/50\n",
      "365/365 [==============================] - 12s 32ms/step - loss: 1.7127\n",
      "Epoch 30/50\n",
      "365/365 [==============================] - 12s 32ms/step - loss: 1.6686\n",
      "Epoch 31/50\n",
      "365/365 [==============================] - 12s 32ms/step - loss: 1.6178\n",
      "Epoch 32/50\n",
      "365/365 [==============================] - 11s 32ms/step - loss: 1.5691\n",
      "Epoch 33/50\n",
      "365/365 [==============================] - 12s 32ms/step - loss: 1.5178\n",
      "Epoch 34/50\n",
      "365/365 [==============================] - 12s 32ms/step - loss: 1.4799\n",
      "Epoch 35/50\n",
      "365/365 [==============================] - 12s 32ms/step - loss: 1.4353\n",
      "Epoch 36/50\n",
      "365/365 [==============================] - 12s 32ms/step - loss: 1.3933\n",
      "Epoch 37/50\n",
      "365/365 [==============================] - 12s 32ms/step - loss: 1.3486\n",
      "Epoch 38/50\n",
      "365/365 [==============================] - 11s 31ms/step - loss: 1.3106\n",
      "Epoch 39/50\n",
      "365/365 [==============================] - 12s 32ms/step - loss: 1.2746\n",
      "Epoch 40/50\n",
      "365/365 [==============================] - 12s 32ms/step - loss: 1.2421\n",
      "Epoch 41/50\n",
      "365/365 [==============================] - 11s 31ms/step - loss: 1.2088\n",
      "Epoch 42/50\n",
      "365/365 [==============================] - 11s 29ms/step - loss: 1.1661\n",
      "Epoch 43/50\n",
      "365/365 [==============================] - 11s 31ms/step - loss: 1.1361\n",
      "Epoch 44/50\n",
      "365/365 [==============================] - 11s 31ms/step - loss: 1.1064\n",
      "Epoch 45/50\n",
      "365/365 [==============================] - 11s 32ms/step - loss: 1.0787\n",
      "Epoch 46/50\n",
      "365/365 [==============================] - 11s 31ms/step - loss: 1.0488\n",
      "Epoch 47/50\n",
      "365/365 [==============================] - 12s 32ms/step - loss: 1.0152\n",
      "Epoch 48/50\n",
      "365/365 [==============================] - 11s 31ms/step - loss: 0.9921\n",
      "Epoch 49/50\n",
      "365/365 [==============================] - 11s 31ms/step - loss: 0.9576\n",
      "Epoch 50/50\n",
      "365/365 [==============================] - 11s 31ms/step - loss: 0.9352\n"
     ]
    }
   ],
   "source": [
    "history = model.fit(np.array(x_tr.reshape(-1,32,1)),np.array(y_tr),batch_size=128,epochs=50,verbose=1)"
   ]
  },
  {
   "cell_type": "code",
   "execution_count": 12,
   "id": "42348c21-ddee-42a9-947c-c16a1958adaa",
   "metadata": {},
   "outputs": [],
   "source": [
    "model.save(\"model.h5\")"
   ]
  },
  {
   "cell_type": "code",
   "execution_count": 13,
   "id": "c770ca43-a4e7-46a7-a305-112cdb4ad57b",
   "metadata": {},
   "outputs": [
    {
     "name": "stdout",
     "output_type": "stream",
     "text": [
      "[137, 6, 137, 6, 137, 6, 327, 103, 6, 338, 103, 249, 185, 338, 338, 338, 338, 118, 347, 338, 249, 119, 351, 351, 351, 129, 107, 23, 118, 351, 129, 129, 327, 326, 0, 107, 347, 209, 77, 77, 77, 77, 77, 177, 77, 129, 229, 177, 177, 104, 260, 103, 129, 129, 129, 103, 74, 330, 129, 177, 122, 122, 177, 177, 59, 155, 173, 155, 148, 155, 155, 104, 155, 63, 148, 148, 148, 155, 155, 347, 77, 210, 107, 155, 155, 155, 155, 155, 155, 155, 155, 155, 155, 155, 155, 108, 155, 163, 163, 163, 163, 163, 6, 163, 131, 131, 131, 6, 155, 155, 118, 118, 308, 308, 356, 155, 308, 356, 92, 356, 89, 114, 290, 173, 356, 113, 337, 89, 92, 327, 326, 172, 114, 114, 327, 173, 97, 255, 337, 308, 103, 347, 84, 347, 337, 308, 308, 308, 308, 308, 308, 308, 308, 308, 308, 308, 308, 308, 308, 308, 327, 327, 327, 260, 260, 260, 288, 260, 305, 260, 305, 260, 305, 260, 305, 260, 305, 260, 305, 260, 305, 260, 305, 260, 305, 260, 305, 260, 305, 260, 305, 260, 305, 260, 305, 260, 305, 260, 305, 260, 305, 260, 305, 260, 305, 260, 305, 260, 305, 260, 305, 260, 305, 260, 305, 260, 305, 260, 305, 260, 305, 260, 305, 260, 305, 260, 305, 260, 305, 260, 305, 260, 305, 260, 305, 260, 305, 260, 305, 260, 305, 260, 305, 260, 305, 260, 305, 260, 305, 260, 305, 260, 305, 260, 305, 260, 305, 260, 305, 260, 305, 260, 305, 260, 305, 260, 305, 260, 305, 260, 305, 260, 305, 260, 305, 260, 305, 260, 305, 260, 305, 260, 305, 260, 305, 260, 305, 260, 305, 260, 305, 260, 305, 260, 305, 260, 305, 260, 305, 260, 305, 260, 305, 260, 305, 260, 305, 260, 305, 260, 305, 260, 305, 260, 305, 260, 305, 260, 305, 260, 305, 260, 305, 260, 305, 260, 305, 260, 305, 260, 305, 260, 305, 260, 305, 260, 305, 260, 305, 260, 305, 260, 305, 260, 305, 260, 305, 260, 305, 260, 305, 260, 305, 260, 305, 260, 305, 260, 305, 260, 305, 260, 305, 260, 305, 260, 305, 260, 305, 260, 305, 260, 305, 260, 305, 260, 305, 260, 305, 260, 305, 260, 305, 260, 305, 260, 305, 260, 305, 260, 305, 260, 305, 260, 305, 260, 305, 260, 305, 260, 305, 260, 305, 260, 305, 260, 305, 260, 305, 260, 305, 260, 305, 260, 305, 260, 305, 260, 305, 260, 305, 260, 305, 260, 305, 260, 305, 260, 305, 260, 305, 260, 305, 260, 305, 260, 305, 260, 305, 260, 305, 260, 305, 260, 305, 260, 305, 260, 305, 260, 305, 260, 305, 260, 305, 260, 305, 260, 305, 260, 305, 260, 305, 260, 305, 260, 305, 260, 305, 260, 305, 260, 305, 260, 305, 260, 305, 260, 305, 260, 305, 260, 305, 260, 305, 260, 305, 260, 305, 260, 305, 260, 305, 260, 305, 260, 305, 260, 305, 260]\n"
     ]
    }
   ],
   "source": [
    "import random\n",
    "ind = np.random.randint(0,len(x_val)-1)\n",
    "\n",
    "random_music = x_val[ind]\n",
    "\n",
    "predictions=[]\n",
    "for i in range(500):\n",
    "\n",
    "    random_music = random_music.reshape(1,num_of_steps,1)\n",
    "\n",
    "    prob  = model.predict(random_music)[0]\n",
    "    y_pred= np.argmax(prob,axis=0)\n",
    "    predictions.append(y_pred)\n",
    "\n",
    "    random_music = np.insert(random_music[0],len(random_music[0]),y_pred)\n",
    "    random_music = random_music[1:]\n",
    "    \n",
    "print(predictions)"
   ]
  },
  {
   "cell_type": "code",
   "execution_count": null,
   "id": "0a9fa449-cada-4219-b8d9-1237bbcff44e",
   "metadata": {},
   "outputs": [],
   "source": []
  },
  {
   "cell_type": "code",
   "execution_count": 14,
   "id": "d8a3f7b9-04d2-4da7-875c-a6d98a955417",
   "metadata": {},
   "outputs": [],
   "source": [
    "x_int_to_note = dict((number, note_) for number, note_ in enumerate(unique_x)) \n",
    "predicted_notes = [x_int_to_note[i] for i in predictions]"
   ]
  },
  {
   "cell_type": "code",
   "execution_count": 15,
   "id": "9c8a6db1-769b-4181-81ba-4892f0bd2373",
   "metadata": {},
   "outputs": [],
   "source": [
    "def convert_to_midi(prediction_output):\n",
    "   \n",
    "    offset = 0\n",
    "    output_notes = []\n",
    "\n",
    "    # create note and chord objects based on the values generated by the model\n",
    "    for pattern in prediction_output:\n",
    "        \n",
    "        # pattern is a chord\n",
    "        if ('.' in pattern) or pattern.isdigit():\n",
    "            notes_in_chord = pattern.split('.')\n",
    "            notes = []\n",
    "            for current_note in notes_in_chord:\n",
    "                \n",
    "                cn=int(current_note)\n",
    "                new_note = note.Note(cn)\n",
    "                new_note.storedInstrument = instrument.Piano()\n",
    "                notes.append(new_note)\n",
    "                \n",
    "            new_chord = chord.Chord(notes)\n",
    "            new_chord.offset = offset\n",
    "            output_notes.append(new_chord)\n",
    "            \n",
    "        # pattern is a note\n",
    "        else:\n",
    "            \n",
    "            new_note = note.Note(pattern)\n",
    "            new_note.offset = offset\n",
    "            new_note.storedInstrument = instrument.Piano()\n",
    "            output_notes.append(new_note)\n",
    "\n",
    "        # increase offset each iteration so that notes do not stack\n",
    "        offset += 1\n",
    "    midi_stream = stream.Stream(output_notes)\n",
    "    midi_stream.write('midi', fp='music.mid')"
   ]
  },
  {
   "cell_type": "code",
   "execution_count": 16,
   "id": "e51c00a4-c9f9-4103-a228-0319020ff671",
   "metadata": {},
   "outputs": [],
   "source": [
    "convert_to_midi(predicted_notes)"
   ]
  },
  {
   "cell_type": "code",
   "execution_count": null,
   "id": "eeaeda35-ba33-45a1-92ec-b19caeb8e22a",
   "metadata": {},
   "outputs": [],
   "source": []
  }
 ],
 "metadata": {
  "kernelspec": {
   "display_name": "Python 3",
   "language": "python",
   "name": "python3"
  },
  "language_info": {
   "codemirror_mode": {
    "name": "ipython",
    "version": 3
   },
   "file_extension": ".py",
   "mimetype": "text/x-python",
   "name": "python",
   "nbconvert_exporter": "python",
   "pygments_lexer": "ipython3",
   "version": "3.8.5"
  }
 },
 "nbformat": 4,
 "nbformat_minor": 5
}
